{
 "cells": [
  {
   "cell_type": "code",
   "execution_count": 1,
   "metadata": {},
   "outputs": [],
   "source": [
    "import pandas as pd"
   ]
  },
  {
   "cell_type": "code",
   "execution_count": 2,
   "metadata": {},
   "outputs": [],
   "source": [
    "df=pd.read_csv('india_thiruvananthapuram_plammoodu_LiveData_preProcessed_AQICalculated.csv')"
   ]
  },
  {
   "cell_type": "code",
   "execution_count": 3,
   "metadata": {},
   "outputs": [
    {
     "data": {
      "text/html": [
       "<div>\n",
       "<style scoped>\n",
       "    .dataframe tbody tr th:only-of-type {\n",
       "        vertical-align: middle;\n",
       "    }\n",
       "\n",
       "    .dataframe tbody tr th {\n",
       "        vertical-align: top;\n",
       "    }\n",
       "\n",
       "    .dataframe thead th {\n",
       "        text-align: right;\n",
       "    }\n",
       "</style>\n",
       "<table border=\"1\" class=\"dataframe\">\n",
       "  <thead>\n",
       "    <tr style=\"text-align: right;\">\n",
       "      <th></th>\n",
       "      <th>Date</th>\n",
       "      <th>PM2.5</th>\n",
       "      <th>PM10</th>\n",
       "      <th>O3</th>\n",
       "      <th>NO2</th>\n",
       "      <th>SO2</th>\n",
       "      <th>CO</th>\n",
       "      <th>PM2.5_SubIndex</th>\n",
       "      <th>PM10_SubIndex</th>\n",
       "      <th>SO2_SubIndex</th>\n",
       "      <th>NO2_SubIndex</th>\n",
       "      <th>CO_SubIndex</th>\n",
       "      <th>O3_SubIndex</th>\n",
       "      <th>Checks</th>\n",
       "      <th>AQI_calculated</th>\n",
       "      <th>AQI_bucket_calculated</th>\n",
       "    </tr>\n",
       "  </thead>\n",
       "  <tbody>\n",
       "    <tr>\n",
       "      <th>0</th>\n",
       "      <td>13-11-2017</td>\n",
       "      <td>145.0</td>\n",
       "      <td>65.0</td>\n",
       "      <td>3.0</td>\n",
       "      <td>7.0</td>\n",
       "      <td>2.0</td>\n",
       "      <td>13.0</td>\n",
       "      <td>197</td>\n",
       "      <td>55</td>\n",
       "      <td>2.50</td>\n",
       "      <td>8.75</td>\n",
       "      <td>158</td>\n",
       "      <td>3.0</td>\n",
       "      <td>6</td>\n",
       "      <td>197</td>\n",
       "      <td>Moderate</td>\n",
       "    </tr>\n",
       "    <tr>\n",
       "      <th>1</th>\n",
       "      <td>14-11-2017</td>\n",
       "      <td>145.0</td>\n",
       "      <td>61.0</td>\n",
       "      <td>3.0</td>\n",
       "      <td>5.0</td>\n",
       "      <td>2.0</td>\n",
       "      <td>10.0</td>\n",
       "      <td>197</td>\n",
       "      <td>53</td>\n",
       "      <td>2.50</td>\n",
       "      <td>6.25</td>\n",
       "      <td>108</td>\n",
       "      <td>3.0</td>\n",
       "      <td>6</td>\n",
       "      <td>197</td>\n",
       "      <td>Moderate</td>\n",
       "    </tr>\n",
       "    <tr>\n",
       "      <th>2</th>\n",
       "      <td>15-11-2017</td>\n",
       "      <td>135.0</td>\n",
       "      <td>62.0</td>\n",
       "      <td>3.0</td>\n",
       "      <td>5.0</td>\n",
       "      <td>1.0</td>\n",
       "      <td>10.0</td>\n",
       "      <td>192</td>\n",
       "      <td>54</td>\n",
       "      <td>1.25</td>\n",
       "      <td>6.25</td>\n",
       "      <td>108</td>\n",
       "      <td>3.0</td>\n",
       "      <td>6</td>\n",
       "      <td>192</td>\n",
       "      <td>Moderate</td>\n",
       "    </tr>\n",
       "    <tr>\n",
       "      <th>3</th>\n",
       "      <td>16-11-2017</td>\n",
       "      <td>144.0</td>\n",
       "      <td>54.0</td>\n",
       "      <td>3.0</td>\n",
       "      <td>6.0</td>\n",
       "      <td>2.0</td>\n",
       "      <td>10.0</td>\n",
       "      <td>197</td>\n",
       "      <td>49</td>\n",
       "      <td>2.50</td>\n",
       "      <td>7.50</td>\n",
       "      <td>108</td>\n",
       "      <td>3.0</td>\n",
       "      <td>6</td>\n",
       "      <td>197</td>\n",
       "      <td>Moderate</td>\n",
       "    </tr>\n",
       "    <tr>\n",
       "      <th>4</th>\n",
       "      <td>17-11-2017</td>\n",
       "      <td>118.0</td>\n",
       "      <td>65.0</td>\n",
       "      <td>3.0</td>\n",
       "      <td>5.0</td>\n",
       "      <td>2.0</td>\n",
       "      <td>10.0</td>\n",
       "      <td>183</td>\n",
       "      <td>55</td>\n",
       "      <td>2.50</td>\n",
       "      <td>6.25</td>\n",
       "      <td>108</td>\n",
       "      <td>3.0</td>\n",
       "      <td>6</td>\n",
       "      <td>183</td>\n",
       "      <td>Moderate</td>\n",
       "    </tr>\n",
       "  </tbody>\n",
       "</table>\n",
       "</div>"
      ],
      "text/plain": [
       "         Date  PM2.5  PM10   O3  NO2  SO2    CO  PM2.5_SubIndex  \\\n",
       "0  13-11-2017  145.0  65.0  3.0  7.0  2.0  13.0             197   \n",
       "1  14-11-2017  145.0  61.0  3.0  5.0  2.0  10.0             197   \n",
       "2  15-11-2017  135.0  62.0  3.0  5.0  1.0  10.0             192   \n",
       "3  16-11-2017  144.0  54.0  3.0  6.0  2.0  10.0             197   \n",
       "4  17-11-2017  118.0  65.0  3.0  5.0  2.0  10.0             183   \n",
       "\n",
       "   PM10_SubIndex  SO2_SubIndex  NO2_SubIndex  CO_SubIndex  O3_SubIndex  \\\n",
       "0             55          2.50          8.75          158          3.0   \n",
       "1             53          2.50          6.25          108          3.0   \n",
       "2             54          1.25          6.25          108          3.0   \n",
       "3             49          2.50          7.50          108          3.0   \n",
       "4             55          2.50          6.25          108          3.0   \n",
       "\n",
       "   Checks  AQI_calculated AQI_bucket_calculated  \n",
       "0       6             197              Moderate  \n",
       "1       6             197              Moderate  \n",
       "2       6             192              Moderate  \n",
       "3       6             197              Moderate  \n",
       "4       6             183              Moderate  "
      ]
     },
     "execution_count": 3,
     "metadata": {},
     "output_type": "execute_result"
    }
   ],
   "source": [
    "df.head()"
   ]
  },
  {
   "cell_type": "code",
   "execution_count": 4,
   "metadata": {},
   "outputs": [
    {
     "data": {
      "text/html": [
       "<div>\n",
       "<style scoped>\n",
       "    .dataframe tbody tr th:only-of-type {\n",
       "        vertical-align: middle;\n",
       "    }\n",
       "\n",
       "    .dataframe tbody tr th {\n",
       "        vertical-align: top;\n",
       "    }\n",
       "\n",
       "    .dataframe thead th {\n",
       "        text-align: right;\n",
       "    }\n",
       "</style>\n",
       "<table border=\"1\" class=\"dataframe\">\n",
       "  <thead>\n",
       "    <tr style=\"text-align: right;\">\n",
       "      <th></th>\n",
       "      <th>Date</th>\n",
       "      <th>PM2.5</th>\n",
       "      <th>PM10</th>\n",
       "      <th>O3</th>\n",
       "      <th>NO2</th>\n",
       "      <th>SO2</th>\n",
       "      <th>CO</th>\n",
       "      <th>PM2.5_SubIndex</th>\n",
       "      <th>PM10_SubIndex</th>\n",
       "      <th>SO2_SubIndex</th>\n",
       "      <th>NO2_SubIndex</th>\n",
       "      <th>CO_SubIndex</th>\n",
       "      <th>O3_SubIndex</th>\n",
       "      <th>Checks</th>\n",
       "      <th>AQI_calculated</th>\n",
       "      <th>AQI_bucket_calculated</th>\n",
       "    </tr>\n",
       "  </thead>\n",
       "  <tbody>\n",
       "    <tr>\n",
       "      <th>1254</th>\n",
       "      <td>20-04-2021</td>\n",
       "      <td>26.0</td>\n",
       "      <td>35.0</td>\n",
       "      <td>11.0</td>\n",
       "      <td>11.0</td>\n",
       "      <td>6.0</td>\n",
       "      <td>7.0</td>\n",
       "      <td>80</td>\n",
       "      <td>32</td>\n",
       "      <td>7.50</td>\n",
       "      <td>13.75</td>\n",
       "      <td>75</td>\n",
       "      <td>11.0</td>\n",
       "      <td>6</td>\n",
       "      <td>80</td>\n",
       "      <td>Satisfactory</td>\n",
       "    </tr>\n",
       "    <tr>\n",
       "      <th>1255</th>\n",
       "      <td>21-04-2021</td>\n",
       "      <td>55.0</td>\n",
       "      <td>42.0</td>\n",
       "      <td>15.0</td>\n",
       "      <td>10.0</td>\n",
       "      <td>6.0</td>\n",
       "      <td>6.0</td>\n",
       "      <td>149</td>\n",
       "      <td>38</td>\n",
       "      <td>7.50</td>\n",
       "      <td>12.50</td>\n",
       "      <td>65</td>\n",
       "      <td>15.0</td>\n",
       "      <td>6</td>\n",
       "      <td>149</td>\n",
       "      <td>Moderate</td>\n",
       "    </tr>\n",
       "    <tr>\n",
       "      <th>1256</th>\n",
       "      <td>22-04-2021</td>\n",
       "      <td>74.0</td>\n",
       "      <td>36.0</td>\n",
       "      <td>13.0</td>\n",
       "      <td>8.0</td>\n",
       "      <td>7.0</td>\n",
       "      <td>7.0</td>\n",
       "      <td>160</td>\n",
       "      <td>33</td>\n",
       "      <td>8.75</td>\n",
       "      <td>10.00</td>\n",
       "      <td>75</td>\n",
       "      <td>13.0</td>\n",
       "      <td>6</td>\n",
       "      <td>160</td>\n",
       "      <td>Moderate</td>\n",
       "    </tr>\n",
       "    <tr>\n",
       "      <th>1257</th>\n",
       "      <td>23-04-2021</td>\n",
       "      <td>61.0</td>\n",
       "      <td>33.0</td>\n",
       "      <td>12.0</td>\n",
       "      <td>9.0</td>\n",
       "      <td>7.0</td>\n",
       "      <td>6.0</td>\n",
       "      <td>153</td>\n",
       "      <td>30</td>\n",
       "      <td>8.75</td>\n",
       "      <td>11.25</td>\n",
       "      <td>65</td>\n",
       "      <td>12.0</td>\n",
       "      <td>6</td>\n",
       "      <td>153</td>\n",
       "      <td>Moderate</td>\n",
       "    </tr>\n",
       "    <tr>\n",
       "      <th>1258</th>\n",
       "      <td>24-04-2021</td>\n",
       "      <td>57.0</td>\n",
       "      <td>33.0</td>\n",
       "      <td>8.0</td>\n",
       "      <td>7.0</td>\n",
       "      <td>3.0</td>\n",
       "      <td>6.0</td>\n",
       "      <td>151</td>\n",
       "      <td>30</td>\n",
       "      <td>3.75</td>\n",
       "      <td>8.75</td>\n",
       "      <td>65</td>\n",
       "      <td>8.0</td>\n",
       "      <td>6</td>\n",
       "      <td>151</td>\n",
       "      <td>Moderate</td>\n",
       "    </tr>\n",
       "  </tbody>\n",
       "</table>\n",
       "</div>"
      ],
      "text/plain": [
       "            Date  PM2.5  PM10    O3   NO2  SO2   CO  PM2.5_SubIndex  \\\n",
       "1254  20-04-2021   26.0  35.0  11.0  11.0  6.0  7.0              80   \n",
       "1255  21-04-2021   55.0  42.0  15.0  10.0  6.0  6.0             149   \n",
       "1256  22-04-2021   74.0  36.0  13.0   8.0  7.0  7.0             160   \n",
       "1257  23-04-2021   61.0  33.0  12.0   9.0  7.0  6.0             153   \n",
       "1258  24-04-2021   57.0  33.0   8.0   7.0  3.0  6.0             151   \n",
       "\n",
       "      PM10_SubIndex  SO2_SubIndex  NO2_SubIndex  CO_SubIndex  O3_SubIndex  \\\n",
       "1254             32          7.50         13.75           75         11.0   \n",
       "1255             38          7.50         12.50           65         15.0   \n",
       "1256             33          8.75         10.00           75         13.0   \n",
       "1257             30          8.75         11.25           65         12.0   \n",
       "1258             30          3.75          8.75           65          8.0   \n",
       "\n",
       "      Checks  AQI_calculated AQI_bucket_calculated  \n",
       "1254       6              80          Satisfactory  \n",
       "1255       6             149              Moderate  \n",
       "1256       6             160              Moderate  \n",
       "1257       6             153              Moderate  \n",
       "1258       6             151              Moderate  "
      ]
     },
     "execution_count": 4,
     "metadata": {},
     "output_type": "execute_result"
    }
   ],
   "source": [
    "df.tail()"
   ]
  },
  {
   "cell_type": "code",
   "execution_count": 5,
   "metadata": {},
   "outputs": [],
   "source": [
    "df1=df.reset_index()['AQI_calculated']"
   ]
  },
  {
   "cell_type": "code",
   "execution_count": 6,
   "metadata": {},
   "outputs": [
    {
     "data": {
      "text/plain": [
       "0       197\n",
       "1       197\n",
       "2       192\n",
       "3       197\n",
       "4       183\n",
       "       ... \n",
       "1254     80\n",
       "1255    149\n",
       "1256    160\n",
       "1257    153\n",
       "1258    151\n",
       "Name: AQI_calculated, Length: 1259, dtype: int64"
      ]
     },
     "execution_count": 6,
     "metadata": {},
     "output_type": "execute_result"
    }
   ],
   "source": [
    "df1"
   ]
  },
  {
   "cell_type": "code",
   "execution_count": 7,
   "metadata": {},
   "outputs": [
    {
     "data": {
      "text/plain": [
       "[<matplotlib.lines.Line2D at 0x20eb1042a00>]"
      ]
     },
     "execution_count": 7,
     "metadata": {},
     "output_type": "execute_result"
    },
    {
     "data": {
      "image/png": "[encoded data removed]",
      "text/plain": [
       "<Figure size 432x288 with 1 Axes>"
      ]
     },
     "metadata": {
      "needs_background": "light"
     },
     "output_type": "display_data"
    }
   ],
   "source": [
    "import matplotlib.pyplot as plt\n",
    "plt.plot(df1)"
   ]
  },
  {
   "cell_type": "code",
   "execution_count": 8,
   "metadata": {},
   "outputs": [
    {
     "data": {
      "image/png": "[encoded data removed]",
      "text/plain": [
       "<Figure size 432x288 with 4 Axes>"
      ]
     },
     "metadata": {
      "needs_background": "light"
     },
     "output_type": "display_data"
    }
   ],
   "source": [
    "groups = [ 2, 3, 5, 6]\n",
    "i = 1\n",
    "plt.figure()\n",
    "values = df.values\n",
    "for group in groups:\n",
    "    plt.subplot(len(groups), 1, i)\n",
    "    plt.plot(values[:, group],'k')\n",
    "    plt.title(df.columns[group], y=0.5, loc='right')\n",
    "    i += 1\n",
    "plt.show()"
   ]
  },
  {
   "cell_type": "code",
   "execution_count": 9,
   "metadata": {},
   "outputs": [],
   "source": [
    "### LSTM are sensitive to the scale of the data. so we apply MinMax scaler "
   ]
  },
  {
   "cell_type": "code",
   "execution_count": 10,
   "metadata": {},
   "outputs": [],
   "source": [
    "import numpy as np"
   ]
  },
  {
   "cell_type": "code",
   "execution_count": 11,
   "metadata": {},
   "outputs": [
    {
     "data": {
      "text/plain": [
       "0       197\n",
       "1       197\n",
       "2       192\n",
       "3       197\n",
       "4       183\n",
       "       ... \n",
       "1254     80\n",
       "1255    149\n",
       "1256    160\n",
       "1257    153\n",
       "1258    151\n",
       "Name: AQI_calculated, Length: 1259, dtype: int64"
      ]
     },
     "execution_count": 11,
     "metadata": {},
     "output_type": "execute_result"
    }
   ],
   "source": [
    "df1"
   ]
  },
  {
   "cell_type": "code",
   "execution_count": 12,
   "metadata": {},
   "outputs": [],
   "source": [
    "from sklearn.preprocessing import MinMaxScaler\n",
    "scaler=MinMaxScaler(feature_range=(0,1))\n",
    "df1=scaler.fit_transform(np.array(df1).reshape(-1,1))"
   ]
  },
  {
   "cell_type": "code",
   "execution_count": 13,
   "metadata": {},
   "outputs": [
    {
     "name": "stdout",
     "output_type": "stream",
     "text": [
      "[[0.35913978]\n",
      " [0.35913978]\n",
      " [0.3483871 ]\n",
      " ...\n",
      " [0.27956989]\n",
      " [0.26451613]\n",
      " [0.26021505]]\n"
     ]
    }
   ],
   "source": [
    "print(df1)"
   ]
  },
  {
   "cell_type": "code",
   "execution_count": 14,
   "metadata": {},
   "outputs": [],
   "source": [
    "##splitting dataset into train and test split\n",
    "training_size=int(len(df1)*0.65)\n",
    "test_size=len(df1)-training_size\n",
    "train_data,test_data=df1[0:training_size,:],df1[training_size:len(df1),:1]"
   ]
  },
  {
   "cell_type": "code",
   "execution_count": 15,
   "metadata": {},
   "outputs": [
    {
     "data": {
      "text/plain": [
       "(818, 441)"
      ]
     },
     "execution_count": 15,
     "metadata": {},
     "output_type": "execute_result"
    }
   ],
   "source": [
    "training_size,test_size"
   ]
  },
  {
   "cell_type": "code",
   "execution_count": 16,
   "metadata": {},
   "outputs": [],
   "source": [
    "# train_data"
   ]
  },
  {
   "cell_type": "code",
   "execution_count": 17,
   "metadata": {},
   "outputs": [],
   "source": [
    "import numpy\n",
    "# convert an array of values into a dataset matrix\n",
    "def create_dataset(dataset, time_step=1):\n",
    "\tdataX, dataY = [], []\n",
    "\tfor i in range(len(dataset)-time_step-1):\n",
    "\t\ta = dataset[i:(i+time_step), 0]   ###i=0, 0,1,2,3-----99   100 \n",
    "\t\tdataX.append(a)\n",
    "\t\tdataY.append(dataset[i + time_step, 0])\n",
    "\treturn numpy.array(dataX), numpy.array(dataY)"
   ]
  },
  {
   "cell_type": "code",
   "execution_count": 18,
   "metadata": {},
   "outputs": [],
   "source": [
    "# reshape into X=t,t+1,t+2,t+3 and Y=t+4\n",
    "time_step = 100\n",
    "X_train, y_train = create_dataset(train_data, time_step)\n",
    "X_test, ytest = create_dataset(test_data, time_step)"
   ]
  },
  {
   "cell_type": "code",
   "execution_count": 19,
   "metadata": {},
   "outputs": [
    {
     "name": "stdout",
     "output_type": "stream",
     "text": [
      "(717, 100)\n",
      "(717,)\n"
     ]
    }
   ],
   "source": [
    "print(X_train.shape)\n",
    "print(y_train.shape)"
   ]
  },
  {
   "cell_type": "code",
   "execution_count": 20,
   "metadata": {},
   "outputs": [
    {
     "name": "stdout",
     "output_type": "stream",
     "text": [
      "(340, 100)\n",
      "(340,)\n"
     ]
    },
    {
     "data": {
      "text/plain": [
       "(None, None)"
      ]
     },
     "execution_count": 20,
     "metadata": {},
     "output_type": "execute_result"
    }
   ],
   "source": [
    "print(X_test.shape), print(ytest.shape)"
   ]
  },
  {
   "cell_type": "code",
   "execution_count": 21,
   "metadata": {},
   "outputs": [],
   "source": [
    "# reshape input to be [samples, time steps, features] which is required for LSTM\n",
    "X_train =X_train.reshape(X_train.shape[0],X_train.shape[1] , 1)\n",
    "X_test = X_test.reshape(X_test.shape[0],X_test.shape[1] , 1)"
   ]
  },
  {
   "cell_type": "code",
   "execution_count": 22,
   "metadata": {},
   "outputs": [
    {
     "name": "stdout",
     "output_type": "stream",
     "text": [
      "(717, 100, 1)\n",
      "(717,)\n"
     ]
    },
    {
     "data": {
      "text/plain": [
       "(None, None)"
      ]
     },
     "execution_count": 22,
     "metadata": {},
     "output_type": "execute_result"
    }
   ],
   "source": [
    "print(X_train.shape),print(y_train.shape)"
   ]
  },
  {
   "cell_type": "code",
   "execution_count": null,
   "metadata": {},
   "outputs": [],
   "source": []
  },
  {
   "cell_type": "code",
   "execution_count": 23,
   "metadata": {},
   "outputs": [],
   "source": [
    "### Create the Stacked LSTM model\n",
    "from tensorflow.keras.models import Sequential\n",
    "from tensorflow.keras.layers import Dense\n",
    "from tensorflow.keras.layers import LSTM\n",
    "from keras.utils.vis_utils import plot_model\n",
    "from keras import metrics"
   ]
  },
  {
   "cell_type": "code",
   "execution_count": 24,
   "metadata": {},
   "outputs": [
    {
     "data": {
      "image/png": "[encoded data removed]",
      "text/plain": [
       "<IPython.core.display.Image object>"
      ]
     },
     "execution_count": 24,
     "metadata": {},
     "output_type": "execute_result"
    }
   ],
   "source": [
    "model=Sequential()\n",
    "model.add(LSTM(50,return_sequences=True,input_shape=(time_step,1)))\n",
    "model.add(LSTM(50,return_sequences=True))\n",
    "model.add(LSTM(50))\n",
    "model.add(Dense(1))\n",
    "model.compile(loss='mean_squared_error',optimizer='adam', metrics=[metrics.MeanSquaredError()])\n",
    "plot_model(model, to_file='model_plot.png', show_shapes=True, show_layer_names=True)"
   ]
  },
  {
   "cell_type": "code",
   "execution_count": 25,
   "metadata": {},
   "outputs": [
    {
     "name": "stdout",
     "output_type": "stream",
     "text": [
      "Model: \"sequential\"\n",
      "_________________________________________________________________\n",
      "Layer (type)                 Output Shape              Param #   \n",
      "=================================================================\n",
      "lstm (LSTM)                  (None, 100, 50)           10400     \n",
      "_________________________________________________________________\n",
      "lstm_1 (LSTM)                (None, 100, 50)           20200     \n",
      "_________________________________________________________________\n",
      "lstm_2 (LSTM)                (None, 50)                20200     \n",
      "_________________________________________________________________\n",
      "dense (Dense)                (None, 1)                 51        \n",
      "=================================================================\n",
      "Total params: 50,851\n",
      "Trainable params: 50,851\n",
      "Non-trainable params: 0\n",
      "_________________________________________________________________\n"
     ]
    }
   ],
   "source": [
    "model.summary()"
   ]
  },
  {
   "cell_type": "code",
   "execution_count": 26,
   "metadata": {},
   "outputs": [
    {
     "name": "stdout",
     "output_type": "stream",
     "text": [
      "Model: \"sequential\"\n",
      "_________________________________________________________________\n",
      "Layer (type)                 Output Shape              Param #   \n",
      "=================================================================\n",
      "lstm (LSTM)                  (None, 100, 50)           10400     \n",
      "_________________________________________________________________\n",
      "lstm_1 (LSTM)                (None, 100, 50)           20200     \n",
      "_________________________________________________________________\n",
      "lstm_2 (LSTM)                (None, 50)                20200     \n",
      "_________________________________________________________________\n",
      "dense (Dense)                (None, 1)                 51        \n",
      "=================================================================\n",
      "Total params: 50,851\n",
      "Trainable params: 50,851\n",
      "Non-trainable params: 0\n",
      "_________________________________________________________________\n"
     ]
    }
   ],
   "source": [
    "model.summary()"
   ]
  },
  {
   "cell_type": "code",
   "execution_count": 27,
   "metadata": {},
   "outputs": [
    {
     "name": "stdout",
     "output_type": "stream",
     "text": [
      "Epoch 1/100\n",
      "12/12 [==============================] - 7s 262ms/step - loss: 0.0592 - mean_squared_error: 0.0592 - val_loss: 0.0036 - val_mean_squared_error: 0.0036\n",
      "Epoch 2/100\n",
      "12/12 [==============================] - 1s 83ms/step - loss: 0.0094 - mean_squared_error: 0.0094 - val_loss: 0.0052 - val_mean_squared_error: 0.0052\n",
      "Epoch 3/100\n",
      "12/12 [==============================] - 1s 81ms/step - loss: 0.0068 - mean_squared_error: 0.0068 - val_loss: 0.0036 - val_mean_squared_error: 0.0036\n",
      "Epoch 4/100\n",
      "12/12 [==============================] - 1s 82ms/step - loss: 0.0061 - mean_squared_error: 0.0061 - val_loss: 0.0038 - val_mean_squared_error: 0.0038\n",
      "Epoch 5/100\n",
      "12/12 [==============================] - 1s 80ms/step - loss: 0.0049 - mean_squared_error: 0.0049 - val_loss: 0.0035 - val_mean_squared_error: 0.0035\n",
      "Epoch 6/100\n",
      "12/12 [==============================] - 1s 82ms/step - loss: 0.0064 - mean_squared_error: 0.0064 - val_loss: 0.0033 - val_mean_squared_error: 0.0033\n",
      "Epoch 7/100\n",
      "12/12 [==============================] - 1s 82ms/step - loss: 0.0068 - mean_squared_error: 0.0068 - val_loss: 0.0034 - val_mean_squared_error: 0.0034\n",
      "Epoch 8/100\n",
      "12/12 [==============================] - 1s 84ms/step - loss: 0.0063 - mean_squared_error: 0.0063 - val_loss: 0.0033 - val_mean_squared_error: 0.0033\n",
      "Epoch 9/100\n",
      "12/12 [==============================] - 1s 84ms/step - loss: 0.0056 - mean_squared_error: 0.0056 - val_loss: 0.0033 - val_mean_squared_error: 0.0033\n",
      "Epoch 10/100\n",
      "12/12 [==============================] - 1s 84ms/step - loss: 0.0084 - mean_squared_error: 0.0084 - val_loss: 0.0033 - val_mean_squared_error: 0.0033\n",
      "Epoch 11/100\n",
      "12/12 [==============================] - 1s 82ms/step - loss: 0.0047 - mean_squared_error: 0.0047 - val_loss: 0.0033 - val_mean_squared_error: 0.0033\n",
      "Epoch 12/100\n",
      "12/12 [==============================] - 1s 93ms/step - loss: 0.0047 - mean_squared_error: 0.0047 - val_loss: 0.0035 - val_mean_squared_error: 0.0035\n",
      "Epoch 13/100\n",
      "12/12 [==============================] - 1s 84ms/step - loss: 0.0083 - mean_squared_error: 0.0083 - val_loss: 0.0033 - val_mean_squared_error: 0.0033\n",
      "Epoch 14/100\n",
      "12/12 [==============================] - 1s 84ms/step - loss: 0.0066 - mean_squared_error: 0.0066 - val_loss: 0.0034 - val_mean_squared_error: 0.0034\n",
      "Epoch 15/100\n",
      "12/12 [==============================] - 1s 81ms/step - loss: 0.0062 - mean_squared_error: 0.0062 - val_loss: 0.0033 - val_mean_squared_error: 0.0033\n",
      "Epoch 16/100\n",
      "12/12 [==============================] - 1s 84ms/step - loss: 0.0046 - mean_squared_error: 0.0046 - val_loss: 0.0032 - val_mean_squared_error: 0.0032\n",
      "Epoch 17/100\n",
      "12/12 [==============================] - 1s 82ms/step - loss: 0.0047 - mean_squared_error: 0.0047 - val_loss: 0.0032 - val_mean_squared_error: 0.0032\n",
      "Epoch 18/100\n",
      "12/12 [==============================] - 1s 84ms/step - loss: 0.0048 - mean_squared_error: 0.0048 - val_loss: 0.0032 - val_mean_squared_error: 0.0032\n",
      "Epoch 19/100\n",
      "12/12 [==============================] - 1s 82ms/step - loss: 0.0046 - mean_squared_error: 0.0046 - val_loss: 0.0032 - val_mean_squared_error: 0.0032\n",
      "Epoch 20/100\n",
      "12/12 [==============================] - 1s 84ms/step - loss: 0.0054 - mean_squared_error: 0.0054 - val_loss: 0.0032 - val_mean_squared_error: 0.0032\n",
      "Epoch 21/100\n",
      "12/12 [==============================] - 1s 82ms/step - loss: 0.0054 - mean_squared_error: 0.0054 - val_loss: 0.0034 - val_mean_squared_error: 0.0034\n",
      "Epoch 22/100\n",
      "12/12 [==============================] - 1s 83ms/step - loss: 0.0054 - mean_squared_error: 0.0054 - val_loss: 0.0042 - val_mean_squared_error: 0.0042\n",
      "Epoch 23/100\n",
      "12/12 [==============================] - 1s 81ms/step - loss: 0.0062 - mean_squared_error: 0.0062 - val_loss: 0.0037 - val_mean_squared_error: 0.0037\n",
      "Epoch 24/100\n",
      "12/12 [==============================] - 1s 84ms/step - loss: 0.0065 - mean_squared_error: 0.0065 - val_loss: 0.0032 - val_mean_squared_error: 0.0032\n",
      "Epoch 25/100\n",
      "12/12 [==============================] - 1s 81ms/step - loss: 0.0047 - mean_squared_error: 0.0047 - val_loss: 0.0031 - val_mean_squared_error: 0.0031\n",
      "Epoch 26/100\n",
      "12/12 [==============================] - 1s 80ms/step - loss: 0.0047 - mean_squared_error: 0.0047 - val_loss: 0.0033 - val_mean_squared_error: 0.0033\n",
      "Epoch 27/100\n",
      "12/12 [==============================] - 1s 81ms/step - loss: 0.0061 - mean_squared_error: 0.0061 - val_loss: 0.0035 - val_mean_squared_error: 0.0035\n",
      "Epoch 28/100\n",
      "12/12 [==============================] - 1s 85ms/step - loss: 0.0062 - mean_squared_error: 0.0062 - val_loss: 0.0031 - val_mean_squared_error: 0.0031\n",
      "Epoch 29/100\n",
      "12/12 [==============================] - 1s 81ms/step - loss: 0.0052 - mean_squared_error: 0.0052 - val_loss: 0.0031 - val_mean_squared_error: 0.0031\n",
      "Epoch 30/100\n",
      "12/12 [==============================] - 1s 83ms/step - loss: 0.0067 - mean_squared_error: 0.0067 - val_loss: 0.0030 - val_mean_squared_error: 0.0030\n",
      "Epoch 31/100\n",
      "12/12 [==============================] - 1s 82ms/step - loss: 0.0050 - mean_squared_error: 0.0050 - val_loss: 0.0032 - val_mean_squared_error: 0.0032\n",
      "Epoch 32/100\n",
      "12/12 [==============================] - 1s 84ms/step - loss: 0.0049 - mean_squared_error: 0.0049 - val_loss: 0.0031 - val_mean_squared_error: 0.0031\n",
      "Epoch 33/100\n",
      "12/12 [==============================] - 1s 86ms/step - loss: 0.0063 - mean_squared_error: 0.0063 - val_loss: 0.0032 - val_mean_squared_error: 0.0032\n",
      "Epoch 34/100\n",
      "12/12 [==============================] - 1s 82ms/step - loss: 0.0054 - mean_squared_error: 0.0054 - val_loss: 0.0030 - val_mean_squared_error: 0.0030\n",
      "Epoch 35/100\n",
      "12/12 [==============================] - 1s 83ms/step - loss: 0.0050 - mean_squared_error: 0.0050 - val_loss: 0.0029 - val_mean_squared_error: 0.0029\n",
      "Epoch 36/100\n",
      "12/12 [==============================] - 1s 84ms/step - loss: 0.0049 - mean_squared_error: 0.0049 - val_loss: 0.0029 - val_mean_squared_error: 0.0029\n",
      "Epoch 37/100\n",
      "12/12 [==============================] - 1s 83ms/step - loss: 0.0055 - mean_squared_error: 0.0055 - val_loss: 0.0029 - val_mean_squared_error: 0.0029\n",
      "Epoch 38/100\n",
      "12/12 [==============================] - 1s 83ms/step - loss: 0.0042 - mean_squared_error: 0.0042 - val_loss: 0.0028 - val_mean_squared_error: 0.0028\n",
      "Epoch 39/100\n",
      "12/12 [==============================] - 1s 83ms/step - loss: 0.0053 - mean_squared_error: 0.0053 - val_loss: 0.0028 - val_mean_squared_error: 0.0028\n",
      "Epoch 40/100\n",
      "12/12 [==============================] - 1s 84ms/step - loss: 0.0059 - mean_squared_error: 0.0059 - val_loss: 0.0028 - val_mean_squared_error: 0.0028\n",
      "Epoch 41/100\n",
      "12/12 [==============================] - 1s 84ms/step - loss: 0.0039 - mean_squared_error: 0.0039 - val_loss: 0.0030 - val_mean_squared_error: 0.0030\n",
      "Epoch 42/100\n",
      "12/12 [==============================] - 1s 85ms/step - loss: 0.0050 - mean_squared_error: 0.0050 - val_loss: 0.0027 - val_mean_squared_error: 0.0027\n",
      "Epoch 43/100\n",
      "12/12 [==============================] - 1s 81ms/step - loss: 0.0043 - mean_squared_error: 0.0043 - val_loss: 0.0026 - val_mean_squared_error: 0.0026\n",
      "Epoch 44/100\n",
      "12/12 [==============================] - 1s 84ms/step - loss: 0.0040 - mean_squared_error: 0.0040 - val_loss: 0.0029 - val_mean_squared_error: 0.0029\n",
      "Epoch 45/100\n",
      "12/12 [==============================] - 1s 83ms/step - loss: 0.0044 - mean_squared_error: 0.0044 - val_loss: 0.0028 - val_mean_squared_error: 0.0028\n",
      "Epoch 46/100\n",
      "12/12 [==============================] - 1s 83ms/step - loss: 0.0044 - mean_squared_error: 0.0044 - val_loss: 0.0027 - val_mean_squared_error: 0.0027\n",
      "Epoch 47/100\n",
      "12/12 [==============================] - 1s 84ms/step - loss: 0.0043 - mean_squared_error: 0.0043 - val_loss: 0.0026 - val_mean_squared_error: 0.0026\n",
      "Epoch 48/100\n",
      "12/12 [==============================] - 1s 83ms/step - loss: 0.0048 - mean_squared_error: 0.0048 - val_loss: 0.0024 - val_mean_squared_error: 0.0024\n",
      "Epoch 49/100\n",
      "12/12 [==============================] - 1s 82ms/step - loss: 0.0038 - mean_squared_error: 0.0038 - val_loss: 0.0024 - val_mean_squared_error: 0.0024\n",
      "Epoch 50/100\n",
      "12/12 [==============================] - 1s 82ms/step - loss: 0.0040 - mean_squared_error: 0.0040 - val_loss: 0.0026 - val_mean_squared_error: 0.0026\n",
      "Epoch 51/100\n",
      "12/12 [==============================] - 1s 84ms/step - loss: 0.0047 - mean_squared_error: 0.0047 - val_loss: 0.0025 - val_mean_squared_error: 0.0025\n",
      "Epoch 52/100\n",
      "12/12 [==============================] - 1s 82ms/step - loss: 0.0040 - mean_squared_error: 0.0040 - val_loss: 0.0028 - val_mean_squared_error: 0.0028\n",
      "Epoch 53/100\n",
      "12/12 [==============================] - 1s 82ms/step - loss: 0.0039 - mean_squared_error: 0.0039 - val_loss: 0.0023 - val_mean_squared_error: 0.0023\n",
      "Epoch 54/100\n",
      "12/12 [==============================] - 1s 82ms/step - loss: 0.0043 - mean_squared_error: 0.0043 - val_loss: 0.0026 - val_mean_squared_error: 0.0026\n",
      "Epoch 55/100\n",
      "12/12 [==============================] - 1s 82ms/step - loss: 0.0038 - mean_squared_error: 0.0038 - val_loss: 0.0024 - val_mean_squared_error: 0.0024\n",
      "Epoch 56/100\n",
      "12/12 [==============================] - 1s 82ms/step - loss: 0.0028 - mean_squared_error: 0.0028 - val_loss: 0.0023 - val_mean_squared_error: 0.0023\n",
      "Epoch 57/100\n",
      "12/12 [==============================] - 1s 81ms/step - loss: 0.0031 - mean_squared_error: 0.0031 - val_loss: 0.0023 - val_mean_squared_error: 0.0023\n",
      "Epoch 58/100\n",
      "12/12 [==============================] - 1s 82ms/step - loss: 0.0031 - mean_squared_error: 0.0031 - val_loss: 0.0022 - val_mean_squared_error: 0.0022\n",
      "Epoch 59/100\n",
      "12/12 [==============================] - 1s 82ms/step - loss: 0.0036 - mean_squared_error: 0.0036 - val_loss: 0.0022 - val_mean_squared_error: 0.0022\n",
      "Epoch 60/100\n",
      "12/12 [==============================] - 1s 81ms/step - loss: 0.0037 - mean_squared_error: 0.0037 - val_loss: 0.0021 - val_mean_squared_error: 0.0021\n",
      "Epoch 61/100\n",
      "12/12 [==============================] - 1s 86ms/step - loss: 0.0027 - mean_squared_error: 0.0027 - val_loss: 0.0022 - val_mean_squared_error: 0.0022\n",
      "Epoch 62/100\n",
      "12/12 [==============================] - 1s 81ms/step - loss: 0.0034 - mean_squared_error: 0.0034 - val_loss: 0.0025 - val_mean_squared_error: 0.0025\n",
      "Epoch 63/100\n",
      "12/12 [==============================] - 1s 83ms/step - loss: 0.0036 - mean_squared_error: 0.0036 - val_loss: 0.0022 - val_mean_squared_error: 0.0022\n",
      "Epoch 64/100\n",
      "12/12 [==============================] - 1s 82ms/step - loss: 0.0043 - mean_squared_error: 0.0043 - val_loss: 0.0020 - val_mean_squared_error: 0.0020\n",
      "Epoch 65/100\n",
      "12/12 [==============================] - 1s 83ms/step - loss: 0.0032 - mean_squared_error: 0.0032 - val_loss: 0.0020 - val_mean_squared_error: 0.0020\n",
      "Epoch 66/100\n",
      "12/12 [==============================] - 1s 84ms/step - loss: 0.0034 - mean_squared_error: 0.0034 - val_loss: 0.0021 - val_mean_squared_error: 0.0021\n",
      "Epoch 67/100\n",
      "12/12 [==============================] - 1s 83ms/step - loss: 0.0032 - mean_squared_error: 0.0032 - val_loss: 0.0020 - val_mean_squared_error: 0.0020\n",
      "Epoch 68/100\n",
      "12/12 [==============================] - 1s 82ms/step - loss: 0.0029 - mean_squared_error: 0.0029 - val_loss: 0.0020 - val_mean_squared_error: 0.0020\n",
      "Epoch 69/100\n",
      "12/12 [==============================] - 1s 83ms/step - loss: 0.0028 - mean_squared_error: 0.0028 - val_loss: 0.0022 - val_mean_squared_error: 0.0022\n",
      "Epoch 70/100\n",
      "12/12 [==============================] - 1s 87ms/step - loss: 0.0032 - mean_squared_error: 0.0032 - val_loss: 0.0020 - val_mean_squared_error: 0.0020\n",
      "Epoch 71/100\n",
      "12/12 [==============================] - 1s 86ms/step - loss: 0.0041 - mean_squared_error: 0.0041 - val_loss: 0.0023 - val_mean_squared_error: 0.0023\n",
      "Epoch 72/100\n",
      "12/12 [==============================] - 1s 91ms/step - loss: 0.0033 - mean_squared_error: 0.0033 - val_loss: 0.0020 - val_mean_squared_error: 0.0020\n",
      "Epoch 73/100\n",
      "12/12 [==============================] - 1s 83ms/step - loss: 0.0034 - mean_squared_error: 0.0034 - val_loss: 0.0020 - val_mean_squared_error: 0.0020\n",
      "Epoch 74/100\n",
      "12/12 [==============================] - 1s 86ms/step - loss: 0.0036 - mean_squared_error: 0.0036 - val_loss: 0.0020 - val_mean_squared_error: 0.0020\n",
      "Epoch 75/100\n",
      "12/12 [==============================] - 1s 86ms/step - loss: 0.0032 - mean_squared_error: 0.0032 - val_loss: 0.0026 - val_mean_squared_error: 0.0026\n",
      "Epoch 76/100\n",
      "12/12 [==============================] - 1s 81ms/step - loss: 0.0030 - mean_squared_error: 0.0030 - val_loss: 0.0021 - val_mean_squared_error: 0.0021\n",
      "Epoch 77/100\n",
      "12/12 [==============================] - 1s 82ms/step - loss: 0.0027 - mean_squared_error: 0.0027 - val_loss: 0.0020 - val_mean_squared_error: 0.0020\n",
      "Epoch 78/100\n",
      "12/12 [==============================] - 1s 82ms/step - loss: 0.0035 - mean_squared_error: 0.0035 - val_loss: 0.0019 - val_mean_squared_error: 0.0019\n",
      "Epoch 79/100\n",
      "12/12 [==============================] - 1s 84ms/step - loss: 0.0027 - mean_squared_error: 0.0027 - val_loss: 0.0019 - val_mean_squared_error: 0.0019\n",
      "Epoch 80/100\n",
      "12/12 [==============================] - 1s 81ms/step - loss: 0.0032 - mean_squared_error: 0.0032 - val_loss: 0.0021 - val_mean_squared_error: 0.0021\n",
      "Epoch 81/100\n",
      "12/12 [==============================] - 1s 82ms/step - loss: 0.0033 - mean_squared_error: 0.0033 - val_loss: 0.0021 - val_mean_squared_error: 0.0021\n",
      "Epoch 82/100\n",
      "12/12 [==============================] - 1s 87ms/step - loss: 0.0036 - mean_squared_error: 0.0036 - val_loss: 0.0019 - val_mean_squared_error: 0.0019\n",
      "Epoch 83/100\n",
      "12/12 [==============================] - 1s 90ms/step - loss: 0.0035 - mean_squared_error: 0.0035 - val_loss: 0.0020 - val_mean_squared_error: 0.0020\n",
      "Epoch 84/100\n",
      "12/12 [==============================] - 1s 90ms/step - loss: 0.0029 - mean_squared_error: 0.0029 - val_loss: 0.0020 - val_mean_squared_error: 0.0020\n",
      "Epoch 85/100\n",
      "12/12 [==============================] - 1s 89ms/step - loss: 0.0033 - mean_squared_error: 0.0033 - val_loss: 0.0019 - val_mean_squared_error: 0.0019\n",
      "Epoch 86/100\n",
      "12/12 [==============================] - 1s 88ms/step - loss: 0.0030 - mean_squared_error: 0.0030 - val_loss: 0.0019 - val_mean_squared_error: 0.0019\n",
      "Epoch 87/100\n",
      "12/12 [==============================] - 1s 81ms/step - loss: 0.0033 - mean_squared_error: 0.0033 - val_loss: 0.0019 - val_mean_squared_error: 0.0019\n",
      "Epoch 88/100\n",
      "12/12 [==============================] - 1s 80ms/step - loss: 0.0036 - mean_squared_error: 0.0036 - val_loss: 0.0020 - val_mean_squared_error: 0.0020\n",
      "Epoch 89/100\n",
      "12/12 [==============================] - 1s 82ms/step - loss: 0.0034 - mean_squared_error: 0.0034 - val_loss: 0.0022 - val_mean_squared_error: 0.0022\n",
      "Epoch 90/100\n",
      "12/12 [==============================] - 1s 86ms/step - loss: 0.0041 - mean_squared_error: 0.0041 - val_loss: 0.0020 - val_mean_squared_error: 0.0020\n",
      "Epoch 91/100\n",
      "12/12 [==============================] - 1s 84ms/step - loss: 0.0032 - mean_squared_error: 0.0032 - val_loss: 0.0019 - val_mean_squared_error: 0.0019\n",
      "Epoch 92/100\n",
      "12/12 [==============================] - 1s 83ms/step - loss: 0.0028 - mean_squared_error: 0.0028 - val_loss: 0.0019 - val_mean_squared_error: 0.0019\n",
      "Epoch 93/100\n",
      "12/12 [==============================] - 1s 86ms/step - loss: 0.0026 - mean_squared_error: 0.0026 - val_loss: 0.0019 - val_mean_squared_error: 0.0019\n",
      "Epoch 94/100\n",
      "12/12 [==============================] - 1s 90ms/step - loss: 0.0026 - mean_squared_error: 0.0026 - val_loss: 0.0020 - val_mean_squared_error: 0.0020\n",
      "Epoch 95/100\n",
      "12/12 [==============================] - 1s 87ms/step - loss: 0.0028 - mean_squared_error: 0.0028 - val_loss: 0.0019 - val_mean_squared_error: 0.0019\n",
      "Epoch 96/100\n",
      "12/12 [==============================] - 1s 88ms/step - loss: 0.0032 - mean_squared_error: 0.0032 - val_loss: 0.0019 - val_mean_squared_error: 0.0019\n",
      "Epoch 97/100\n",
      "12/12 [==============================] - 1s 82ms/step - loss: 0.0029 - mean_squared_error: 0.0029 - val_loss: 0.0022 - val_mean_squared_error: 0.0022\n",
      "Epoch 98/100\n",
      "12/12 [==============================] - 1s 83ms/step - loss: 0.0031 - mean_squared_error: 0.0031 - val_loss: 0.0020 - val_mean_squared_error: 0.0020\n",
      "Epoch 99/100\n",
      "12/12 [==============================] - 1s 83ms/step - loss: 0.0028 - mean_squared_error: 0.0028 - val_loss: 0.0019 - val_mean_squared_error: 0.0019\n",
      "Epoch 100/100\n",
      "12/12 [==============================] - 1s 83ms/step - loss: 0.0025 - mean_squared_error: 0.0025 - val_loss: 0.0020 - val_mean_squared_error: 0.0020\n"
     ]
    },
    {
     "data": {
      "text/plain": [
       "<tensorflow.python.keras.callbacks.History at 0x20ec1bae8e0>"
      ]
     },
     "execution_count": 27,
     "metadata": {},
     "output_type": "execute_result"
    }
   ],
   "source": [
    "model.fit(X_train,y_train,validation_data=(X_test,ytest),epochs=100,batch_size=64,verbose=1)"
   ]
  },
  {
   "cell_type": "code",
   "execution_count": 28,
   "metadata": {},
   "outputs": [],
   "source": [
    "import tensorflow as tf"
   ]
  },
  {
   "cell_type": "code",
   "execution_count": 29,
   "metadata": {},
   "outputs": [
    {
     "data": {
      "text/plain": [
       "'2.4.1'"
      ]
     },
     "execution_count": 29,
     "metadata": {},
     "output_type": "execute_result"
    }
   ],
   "source": [
    "tf.__version__"
   ]
  },
  {
   "cell_type": "code",
   "execution_count": 30,
   "metadata": {},
   "outputs": [],
   "source": [
    "### Lets Do the prediction and check performance metrics\n",
    "train_predict=model.predict(X_train)\n",
    "test_predict=model.predict(X_test)"
   ]
  },
  {
   "cell_type": "code",
   "execution_count": 31,
   "metadata": {},
   "outputs": [],
   "source": [
    "##Transformback to original form\n",
    "train_predict=scaler.inverse_transform(train_predict)\n",
    "test_predict=scaler.inverse_transform(test_predict)"
   ]
  },
  {
   "cell_type": "code",
   "execution_count": 32,
   "metadata": {},
   "outputs": [
    {
     "data": {
      "text/plain": [
       "166.05732467381642"
      ]
     },
     "execution_count": 32,
     "metadata": {},
     "output_type": "execute_result"
    }
   ],
   "source": [
    "### Calculate RMSE performance metrics\n",
    "import math\n",
    "from sklearn.metrics import mean_squared_error\n",
    "math.sqrt(mean_squared_error(y_train,train_predict))"
   ]
  },
  {
   "cell_type": "code",
   "execution_count": 33,
   "metadata": {},
   "outputs": [
    {
     "data": {
      "text/plain": [
       "154.45357004661582"
      ]
     },
     "execution_count": 33,
     "metadata": {},
     "output_type": "execute_result"
    }
   ],
   "source": [
    "### Test Data RMSE\n",
    "math.sqrt(mean_squared_error(ytest,test_predict))"
   ]
  },
  {
   "cell_type": "code",
   "execution_count": 34,
   "metadata": {},
   "outputs": [
    {
     "data": {
      "image/png": "[encoded data removed]",
      "text/plain": [
       "<Figure size 432x288 with 1 Axes>"
      ]
     },
     "metadata": {
      "needs_background": "light"
     },
     "output_type": "display_data"
    }
   ],
   "source": [
    "### Plotting \n",
    "# shift train predictions for plotting\n",
    "look_back=time_step\n",
    "trainPredictPlot = numpy.empty_like(df1)\n",
    "trainPredictPlot[:, :] = np.nan\n",
    "trainPredictPlot[look_back:len(train_predict)+look_back, :] = train_predict\n",
    "# shift test predictions for plotting\n",
    "testPredictPlot = numpy.empty_like(df1)\n",
    "testPredictPlot[:, :] = numpy.nan\n",
    "testPredictPlot[len(train_predict)+(look_back*2)+1:len(df1)-1, :] = test_predict\n",
    "# plot baseline and predictions\n",
    "plt.plot(scaler.inverse_transform(df1))\n",
    "plt.plot(trainPredictPlot, label='Training History')\n",
    "plt.plot(testPredictPlot, label='Testing History')\n",
    "plt.title(\"Train and Test Loss for the LSTM\")\n",
    "plt.legend()\n",
    "plt.show()"
   ]
  },
  {
   "cell_type": "code",
   "execution_count": 37,
   "metadata": {},
   "outputs": [
    {
     "data": {
      "text/plain": [
       "441"
      ]
     },
     "execution_count": 37,
     "metadata": {},
     "output_type": "execute_result"
    }
   ],
   "source": [
    "len(test_data)"
   ]
  },
  {
   "cell_type": "code",
   "execution_count": 38,
   "metadata": {},
   "outputs": [
    {
     "data": {
      "text/plain": [
       "(1, 100)"
      ]
     },
     "execution_count": 38,
     "metadata": {},
     "output_type": "execute_result"
    }
   ],
   "source": [
    "x_input=test_data[len(test_data)-time_step:].reshape(1,-1)\n",
    "x_input.shape\n"
   ]
  },
  {
   "cell_type": "code",
   "execution_count": 39,
   "metadata": {},
   "outputs": [],
   "source": [
    "temp_input=list(x_input)\n",
    "temp_input=temp_input[0].tolist()"
   ]
  },
  {
   "cell_type": "code",
   "execution_count": 40,
   "metadata": {},
   "outputs": [
    {
     "name": "stdout",
     "output_type": "stream",
     "text": [
      "[0.24875192]\n",
      "[[0.2487519234418869], [0.23756203055381775], [0.2324289083480835], [0.23475004732608795], [0.2409159541130066], [0.2465389221906662], [0.24905668199062347], [0.24806509912014008], [0.24464088678359985], [0.24045266211032867], [0.2369263619184494], [0.23472116887569427], [0.23371125757694244], [0.23335491120815277], [0.23311662673950195], [0.23270536959171295], [0.2320973128080368], [0.23143424093723297], [0.23089106380939484], [0.23057810962200165], [0.23050673305988312], [0.23060722649097443], [0.23077653348445892], [0.23092298209667206], [0.23099184036254883], [0.23096778988838196], [0.2308623194694519], [0.23069703578948975], [0.2304902970790863], [0.23025162518024445], [0.22998341917991638], [0.22968584299087524], [0.22936125099658966], [0.22901621460914612], [0.22866082191467285], [0.2283066213130951], [0.2279636710882187], [0.22763924300670624], [0.22733727097511292], [0.22705884277820587], [0.22680307924747467], [0.22656823694705963], [0.22635212540626526], [0.22615216672420502], [0.22596588730812073], [0.22579042613506317], [0.2256229966878891], [0.22546087205410004], [0.225301593542099], [0.225143164396286], [0.22498422861099243], [0.2248237431049347], [0.22466129064559937], [0.224496990442276], [0.2243311107158661], [0.22416429221630096], [0.223997101187706], [0.2238304615020752], [0.22366520762443542], [0.22350211441516876], [0.2233416885137558], [0.22318458557128906], [0.22303108870983124], [0.2228815257549286], [0.22273603081703186], [0.22259443998336792], [0.22245676815509796], [0.22232279181480408], [0.2221921980381012], [0.222064808011055], [0.22194018959999084], [0.2218182384967804], [0.2216986119747162], [0.22158119082450867], [0.2214657962322235], [0.22135226428508759], [0.22124046087265015], [0.22113032639026642], [0.22102190554141998], [0.2209150791168213], [0.2208099067211151], [0.22070638835430145], [0.2206045687198639], [0.22050440311431885], [0.2204059660434723], [0.22030925750732422], [0.22021429240703583], [0.22012107074260712], [0.22002959251403809], [0.21993978321552277], [0.2198517769575119], [0.21976539492607117], [0.21968069672584534], [0.2195976972579956], [0.2195163071155548], [0.21943646669387817], [0.21935813128948212], [0.21928124129772186], [0.21920573711395264], [0.21913161873817444]]\n"
     ]
    }
   ],
   "source": [
    "# demonstrate prediction for next X days\n",
    "from numpy import array\n",
    "\n",
    "number_of_prediction_days = time_step\n",
    "lst_output=[]\n",
    "n_steps=time_step\n",
    "i=0\n",
    "while(i<number_of_prediction_days):\n",
    "    \n",
    "    if(len(temp_input)>time_step):\n",
    "        #print(temp_input)\n",
    "        x_input=np.array(temp_input[1:])\n",
    "        #print(\"{} day input {}\".format(i,x_input))\n",
    "        x_input=x_input.reshape(1,-1)\n",
    "        x_input = x_input.reshape((1, n_steps, 1))\n",
    "        #print(x_input)\n",
    "        yhat = model.predict(x_input, verbose=0)\n",
    "        #print(\"{} day output {}\".format(i,yhat))\n",
    "        temp_input.extend(yhat[0].tolist())\n",
    "        temp_input=temp_input[1:]\n",
    "        #print(temp_input)\n",
    "        lst_output.extend(yhat.tolist())\n",
    "        i=i+1\n",
    "    else:\n",
    "        x_input = x_input.reshape((1, n_steps,1))\n",
    "        yhat = model.predict(x_input, verbose=0)\n",
    "        print(yhat[0])\n",
    "        temp_input.extend(yhat[0].tolist())\n",
    "        #print(len(temp_input))\n",
    "        lst_output.extend(yhat.tolist())\n",
    "        i=i+1\n",
    "    \n",
    "\n",
    "print(lst_output)"
   ]
  },
  {
   "cell_type": "code",
   "execution_count": 41,
   "metadata": {},
   "outputs": [],
   "source": [
    "day_new=np.arange(1,147)\n",
    "day_pred=np.arange(147,293)"
   ]
  },
  {
   "cell_type": "code",
   "execution_count": 48,
   "metadata": {},
   "outputs": [],
   "source": [
    "import matplotlib.pyplot as plt"
   ]
  },
  {
   "cell_type": "code",
   "execution_count": 49,
   "metadata": {},
   "outputs": [
    {
     "data": {
      "text/plain": [
       "1259"
      ]
     },
     "execution_count": 49,
     "metadata": {},
     "output_type": "execute_result"
    }
   ],
   "source": [
    "len(df1)"
   ]
  },
  {
   "cell_type": "code",
   "execution_count": 50,
   "metadata": {},
   "outputs": [
    {
     "data": {
      "text/plain": [
       "146"
      ]
     },
     "execution_count": 50,
     "metadata": {},
     "output_type": "execute_result"
    }
   ],
   "source": [
    "len(day_pred)"
   ]
  },
  {
   "cell_type": "code",
   "execution_count": 51,
   "metadata": {},
   "outputs": [
    {
     "data": {
      "text/plain": [
       "146"
      ]
     },
     "execution_count": 51,
     "metadata": {},
     "output_type": "execute_result"
    }
   ],
   "source": [
    "len(day_new)"
   ]
  },
  {
   "cell_type": "code",
   "execution_count": 62,
   "metadata": {},
   "outputs": [
    {
     "ename": "ValueError",
     "evalue": "x and y must have same first dimension, but have shapes (146,) and (100, 1)",
     "output_type": "error",
     "traceback": [
      "\u001b[1;31m---------------------------------------------------------------------------\u001b[0m",
      "\u001b[1;31mValueError\u001b[0m                                Traceback (most recent call last)",
      "\u001b[1;32m<ipython-input-62-79c4bb24a586>\u001b[0m in \u001b[0;36m<module>\u001b[1;34m\u001b[0m\n\u001b[1;32m----> 1\u001b[1;33m \u001b[0mplt\u001b[0m\u001b[1;33m.\u001b[0m\u001b[0mplot\u001b[0m\u001b[1;33m(\u001b[0m\u001b[0mday_new\u001b[0m\u001b[1;33m,\u001b[0m\u001b[0mscaler\u001b[0m\u001b[1;33m.\u001b[0m\u001b[0minverse_transform\u001b[0m\u001b[1;33m(\u001b[0m\u001b[0mdf1\u001b[0m\u001b[1;33m[\u001b[0m\u001b[0mlen\u001b[0m\u001b[1;33m(\u001b[0m\u001b[0mdf1\u001b[0m\u001b[1;33m)\u001b[0m\u001b[1;33m-\u001b[0m\u001b[1;36m100\u001b[0m\u001b[1;33m:\u001b[0m\u001b[1;33m]\u001b[0m\u001b[1;33m)\u001b[0m\u001b[1;33m)\u001b[0m\u001b[1;33m\u001b[0m\u001b[1;33m\u001b[0m\u001b[0m\n\u001b[0m\u001b[0;32m      2\u001b[0m \u001b[1;31m# plt.plot(day_new,scaler.inverse_transform(df1)\u001b[0m\u001b[1;33m\u001b[0m\u001b[1;33m\u001b[0m\u001b[1;33m\u001b[0m\u001b[0m\n\u001b[0;32m      3\u001b[0m \u001b[0mplt\u001b[0m\u001b[1;33m.\u001b[0m\u001b[0mplot\u001b[0m\u001b[1;33m(\u001b[0m\u001b[0mday_pred\u001b[0m\u001b[1;33m,\u001b[0m \u001b[0mscaler\u001b[0m\u001b[1;33m.\u001b[0m\u001b[0minverse_transform\u001b[0m\u001b[1;33m(\u001b[0m\u001b[0mlst_output\u001b[0m\u001b[1;33m)\u001b[0m\u001b[1;33m,\u001b[0m \u001b[0mlabel\u001b[0m\u001b[1;33m=\u001b[0m \u001b[1;34m\"Predicted Values\"\u001b[0m\u001b[1;33m)\u001b[0m\u001b[1;33m\u001b[0m\u001b[1;33m\u001b[0m\u001b[0m\n\u001b[0;32m      4\u001b[0m \u001b[0mplt\u001b[0m\u001b[1;33m.\u001b[0m\u001b[0mlegend\u001b[0m\u001b[1;33m(\u001b[0m\u001b[1;33m)\u001b[0m\u001b[1;33m\u001b[0m\u001b[1;33m\u001b[0m\u001b[0m\n\u001b[0;32m      5\u001b[0m \u001b[0mplt\u001b[0m\u001b[1;33m.\u001b[0m\u001b[0mshow\u001b[0m\u001b[1;33m(\u001b[0m\u001b[1;33m)\u001b[0m\u001b[1;33m\u001b[0m\u001b[1;33m\u001b[0m\u001b[0m\n",
      "\u001b[1;32m~\\anaconda3\\lib\\site-packages\\matplotlib\\pyplot.py\u001b[0m in \u001b[0;36mplot\u001b[1;34m(scalex, scaley, data, *args, **kwargs)\u001b[0m\n\u001b[0;32m   2838\u001b[0m \u001b[1;33m@\u001b[0m\u001b[0m_copy_docstring_and_deprecators\u001b[0m\u001b[1;33m(\u001b[0m\u001b[0mAxes\u001b[0m\u001b[1;33m.\u001b[0m\u001b[0mplot\u001b[0m\u001b[1;33m)\u001b[0m\u001b[1;33m\u001b[0m\u001b[1;33m\u001b[0m\u001b[0m\n\u001b[0;32m   2839\u001b[0m \u001b[1;32mdef\u001b[0m \u001b[0mplot\u001b[0m\u001b[1;33m(\u001b[0m\u001b[1;33m*\u001b[0m\u001b[0margs\u001b[0m\u001b[1;33m,\u001b[0m \u001b[0mscalex\u001b[0m\u001b[1;33m=\u001b[0m\u001b[1;32mTrue\u001b[0m\u001b[1;33m,\u001b[0m \u001b[0mscaley\u001b[0m\u001b[1;33m=\u001b[0m\u001b[1;32mTrue\u001b[0m\u001b[1;33m,\u001b[0m \u001b[0mdata\u001b[0m\u001b[1;33m=\u001b[0m\u001b[1;32mNone\u001b[0m\u001b[1;33m,\u001b[0m \u001b[1;33m**\u001b[0m\u001b[0mkwargs\u001b[0m\u001b[1;33m)\u001b[0m\u001b[1;33m:\u001b[0m\u001b[1;33m\u001b[0m\u001b[1;33m\u001b[0m\u001b[0m\n\u001b[1;32m-> 2840\u001b[1;33m     return gca().plot(\n\u001b[0m\u001b[0;32m   2841\u001b[0m         \u001b[1;33m*\u001b[0m\u001b[0margs\u001b[0m\u001b[1;33m,\u001b[0m \u001b[0mscalex\u001b[0m\u001b[1;33m=\u001b[0m\u001b[0mscalex\u001b[0m\u001b[1;33m,\u001b[0m \u001b[0mscaley\u001b[0m\u001b[1;33m=\u001b[0m\u001b[0mscaley\u001b[0m\u001b[1;33m,\u001b[0m\u001b[1;33m\u001b[0m\u001b[1;33m\u001b[0m\u001b[0m\n\u001b[0;32m   2842\u001b[0m         **({\"data\": data} if data is not None else {}), **kwargs)\n",
      "\u001b[1;32m~\\anaconda3\\lib\\site-packages\\matplotlib\\axes\\_axes.py\u001b[0m in \u001b[0;36mplot\u001b[1;34m(self, scalex, scaley, data, *args, **kwargs)\u001b[0m\n\u001b[0;32m   1741\u001b[0m         \"\"\"\n\u001b[0;32m   1742\u001b[0m         \u001b[0mkwargs\u001b[0m \u001b[1;33m=\u001b[0m \u001b[0mcbook\u001b[0m\u001b[1;33m.\u001b[0m\u001b[0mnormalize_kwargs\u001b[0m\u001b[1;33m(\u001b[0m\u001b[0mkwargs\u001b[0m\u001b[1;33m,\u001b[0m \u001b[0mmlines\u001b[0m\u001b[1;33m.\u001b[0m\u001b[0mLine2D\u001b[0m\u001b[1;33m)\u001b[0m\u001b[1;33m\u001b[0m\u001b[1;33m\u001b[0m\u001b[0m\n\u001b[1;32m-> 1743\u001b[1;33m         \u001b[0mlines\u001b[0m \u001b[1;33m=\u001b[0m \u001b[1;33m[\u001b[0m\u001b[1;33m*\u001b[0m\u001b[0mself\u001b[0m\u001b[1;33m.\u001b[0m\u001b[0m_get_lines\u001b[0m\u001b[1;33m(\u001b[0m\u001b[1;33m*\u001b[0m\u001b[0margs\u001b[0m\u001b[1;33m,\u001b[0m \u001b[0mdata\u001b[0m\u001b[1;33m=\u001b[0m\u001b[0mdata\u001b[0m\u001b[1;33m,\u001b[0m \u001b[1;33m**\u001b[0m\u001b[0mkwargs\u001b[0m\u001b[1;33m)\u001b[0m\u001b[1;33m]\u001b[0m\u001b[1;33m\u001b[0m\u001b[1;33m\u001b[0m\u001b[0m\n\u001b[0m\u001b[0;32m   1744\u001b[0m         \u001b[1;32mfor\u001b[0m \u001b[0mline\u001b[0m \u001b[1;32min\u001b[0m \u001b[0mlines\u001b[0m\u001b[1;33m:\u001b[0m\u001b[1;33m\u001b[0m\u001b[1;33m\u001b[0m\u001b[0m\n\u001b[0;32m   1745\u001b[0m             \u001b[0mself\u001b[0m\u001b[1;33m.\u001b[0m\u001b[0madd_line\u001b[0m\u001b[1;33m(\u001b[0m\u001b[0mline\u001b[0m\u001b[1;33m)\u001b[0m\u001b[1;33m\u001b[0m\u001b[1;33m\u001b[0m\u001b[0m\n",
      "\u001b[1;32m~\\anaconda3\\lib\\site-packages\\matplotlib\\axes\\_base.py\u001b[0m in \u001b[0;36m__call__\u001b[1;34m(self, data, *args, **kwargs)\u001b[0m\n\u001b[0;32m    271\u001b[0m                 \u001b[0mthis\u001b[0m \u001b[1;33m+=\u001b[0m \u001b[0margs\u001b[0m\u001b[1;33m[\u001b[0m\u001b[1;36m0\u001b[0m\u001b[1;33m]\u001b[0m\u001b[1;33m,\u001b[0m\u001b[1;33m\u001b[0m\u001b[1;33m\u001b[0m\u001b[0m\n\u001b[0;32m    272\u001b[0m                 \u001b[0margs\u001b[0m \u001b[1;33m=\u001b[0m \u001b[0margs\u001b[0m\u001b[1;33m[\u001b[0m\u001b[1;36m1\u001b[0m\u001b[1;33m:\u001b[0m\u001b[1;33m]\u001b[0m\u001b[1;33m\u001b[0m\u001b[1;33m\u001b[0m\u001b[0m\n\u001b[1;32m--> 273\u001b[1;33m             \u001b[1;32myield\u001b[0m \u001b[1;32mfrom\u001b[0m \u001b[0mself\u001b[0m\u001b[1;33m.\u001b[0m\u001b[0m_plot_args\u001b[0m\u001b[1;33m(\u001b[0m\u001b[0mthis\u001b[0m\u001b[1;33m,\u001b[0m \u001b[0mkwargs\u001b[0m\u001b[1;33m)\u001b[0m\u001b[1;33m\u001b[0m\u001b[1;33m\u001b[0m\u001b[0m\n\u001b[0m\u001b[0;32m    274\u001b[0m \u001b[1;33m\u001b[0m\u001b[0m\n\u001b[0;32m    275\u001b[0m     \u001b[1;32mdef\u001b[0m \u001b[0mget_next_color\u001b[0m\u001b[1;33m(\u001b[0m\u001b[0mself\u001b[0m\u001b[1;33m)\u001b[0m\u001b[1;33m:\u001b[0m\u001b[1;33m\u001b[0m\u001b[1;33m\u001b[0m\u001b[0m\n",
      "\u001b[1;32m~\\anaconda3\\lib\\site-packages\\matplotlib\\axes\\_base.py\u001b[0m in \u001b[0;36m_plot_args\u001b[1;34m(self, tup, kwargs)\u001b[0m\n\u001b[0;32m    397\u001b[0m \u001b[1;33m\u001b[0m\u001b[0m\n\u001b[0;32m    398\u001b[0m         \u001b[1;32mif\u001b[0m \u001b[0mx\u001b[0m\u001b[1;33m.\u001b[0m\u001b[0mshape\u001b[0m\u001b[1;33m[\u001b[0m\u001b[1;36m0\u001b[0m\u001b[1;33m]\u001b[0m \u001b[1;33m!=\u001b[0m \u001b[0my\u001b[0m\u001b[1;33m.\u001b[0m\u001b[0mshape\u001b[0m\u001b[1;33m[\u001b[0m\u001b[1;36m0\u001b[0m\u001b[1;33m]\u001b[0m\u001b[1;33m:\u001b[0m\u001b[1;33m\u001b[0m\u001b[1;33m\u001b[0m\u001b[0m\n\u001b[1;32m--> 399\u001b[1;33m             raise ValueError(f\"x and y must have same first dimension, but \"\n\u001b[0m\u001b[0;32m    400\u001b[0m                              f\"have shapes {x.shape} and {y.shape}\")\n\u001b[0;32m    401\u001b[0m         \u001b[1;32mif\u001b[0m \u001b[0mx\u001b[0m\u001b[1;33m.\u001b[0m\u001b[0mndim\u001b[0m \u001b[1;33m>\u001b[0m \u001b[1;36m2\u001b[0m \u001b[1;32mor\u001b[0m \u001b[0my\u001b[0m\u001b[1;33m.\u001b[0m\u001b[0mndim\u001b[0m \u001b[1;33m>\u001b[0m \u001b[1;36m2\u001b[0m\u001b[1;33m:\u001b[0m\u001b[1;33m\u001b[0m\u001b[1;33m\u001b[0m\u001b[0m\n",
      "\u001b[1;31mValueError\u001b[0m: x and y must have same first dimension, but have shapes (146,) and (100, 1)"
     ]
    },
    {
     "data": {
      "image/png": "[encoded data removed]",
      "text/plain": [
       "<Figure size 432x288 with 1 Axes>"
      ]
     },
     "metadata": {
      "needs_background": "light"
     },
     "output_type": "display_data"
    }
   ],
   "source": [
    "plt.plot(day_new,scaler.inverse_transform(df1[len(df1)-100:]))\n",
    "# plt.plot(day_new,scaler.inverse_transform(df1)\n",
    "plt.plot(day_pred, scaler.inverse_transform(lst_output), label= \"Predicted Values\")\n",
    "plt.legend()\n",
    "plt.show()"
   ]
  },
  {
   "cell_type": "code",
   "execution_count": 56,
   "metadata": {},
   "outputs": [
    {
     "data": {
      "text/plain": [
       "[<matplotlib.lines.Line2D at 0x20ecf8a0910>]"
      ]
     },
     "execution_count": 56,
     "metadata": {},
     "output_type": "execute_result"
    },
    {
     "data": {
      "image/png": "[encoded data removed]",
      "text/plain": [
       "<Figure size 432x288 with 1 Axes>"
      ]
     },
     "metadata": {
      "needs_background": "light"
     },
     "output_type": "display_data"
    }
   ],
   "source": [
    "df3=df1.tolist()\n",
    "df3.extend(lst_output)\n",
    "plt.plot(df3[50:])"
   ]
  },
  {
   "cell_type": "code",
   "execution_count": 57,
   "metadata": {},
   "outputs": [
    {
     "data": {
      "text/plain": [
       "array([[145.6696444 ],\n",
       "       [140.46634421],\n",
       "       [138.07944238],\n",
       "       [139.15877201],\n",
       "       [142.02591866],\n",
       "       [144.64059882],\n",
       "       [145.81135713],\n",
       "       [145.35027109],\n",
       "       [143.75801235],\n",
       "       [141.81048788],\n",
       "       [140.17075829],\n",
       "       [139.14534353],\n",
       "       [138.67573477],\n",
       "       [138.51003371],\n",
       "       [138.39923143],\n",
       "       [138.20799686],\n",
       "       [137.92525046],\n",
       "       [137.61692204],\n",
       "       [137.36434467],\n",
       "       [137.21882097],\n",
       "       [137.18563087],\n",
       "       [137.23236032],\n",
       "       [137.31108807],\n",
       "       [137.37918667],\n",
       "       [137.41120577],\n",
       "       [137.4000223 ],\n",
       "       [137.35097855],\n",
       "       [137.27412164],\n",
       "       [137.17798814],\n",
       "       [137.06700571],\n",
       "       [136.94228992],\n",
       "       [136.80391699],\n",
       "       [136.65298171],\n",
       "       [136.49253979],\n",
       "       [136.32728219],\n",
       "       [136.16257891],\n",
       "       [136.00310706],\n",
       "       [135.852248  ],\n",
       "       [135.711831  ],\n",
       "       [135.58236189],\n",
       "       [135.46343185],\n",
       "       [135.35423018],\n",
       "       [135.25373831],\n",
       "       [135.16075753],\n",
       "       [135.0741376 ],\n",
       "       [134.99254815],\n",
       "       [134.91469346],\n",
       "       [134.83930551],\n",
       "       [134.765241  ],\n",
       "       [134.69157144],\n",
       "       [134.6176663 ],\n",
       "       [134.54304054],\n",
       "       [134.46750015],\n",
       "       [134.39110056],\n",
       "       [134.31396648],\n",
       "       [134.23639588],\n",
       "       [134.15865205],\n",
       "       [134.0811646 ],\n",
       "       [134.00432155],\n",
       "       [133.9284832 ],\n",
       "       [133.85388516],\n",
       "       [133.78083229],\n",
       "       [133.70945625],\n",
       "       [133.63990948],\n",
       "       [133.57225433],\n",
       "       [133.50641459],\n",
       "       [133.44239719],\n",
       "       [133.38009819],\n",
       "       [133.31937209],\n",
       "       [133.26013573],\n",
       "       [133.20218816],\n",
       "       [133.1454809 ],\n",
       "       [133.08985457],\n",
       "       [133.03525373],\n",
       "       [132.98159525],\n",
       "       [132.92880289],\n",
       "       [132.87681431],\n",
       "       [132.82560177],\n",
       "       [132.77518608],\n",
       "       [132.72551179],\n",
       "       [132.67660663],\n",
       "       [132.62847058],\n",
       "       [132.58112445],\n",
       "       [132.53454745],\n",
       "       [132.48877421],\n",
       "       [132.44380474],\n",
       "       [132.39964597],\n",
       "       [132.3562979 ],\n",
       "       [132.31376052],\n",
       "       [132.2719992 ],\n",
       "       [132.23107629],\n",
       "       [132.19090864],\n",
       "       [132.15152398],\n",
       "       [132.11292922],\n",
       "       [132.07508281],\n",
       "       [132.03795701],\n",
       "       [132.00153105],\n",
       "       [131.9657772 ],\n",
       "       [131.93066776],\n",
       "       [131.89620271]])"
      ]
     },
     "execution_count": 57,
     "metadata": {},
     "output_type": "execute_result"
    }
   ],
   "source": [
    "tmp = scaler.inverse_transform(lst_output)\n",
    "tmp"
   ]
  },
  {
   "cell_type": "code",
   "execution_count": 58,
   "metadata": {},
   "outputs": [
    {
     "data": {
      "text/plain": [
       "100"
      ]
     },
     "execution_count": 58,
     "metadata": {},
     "output_type": "execute_result"
    }
   ],
   "source": [
    "len(scaler.inverse_transform(lst_output))\n"
   ]
  },
  {
   "cell_type": "code",
   "execution_count": 59,
   "metadata": {},
   "outputs": [],
   "source": [
    "df3=scaler.inverse_transform(df3).tolist()"
   ]
  },
  {
   "cell_type": "code",
   "execution_count": null,
   "metadata": {},
   "outputs": [],
   "source": []
  },
  {
   "cell_type": "code",
   "execution_count": 60,
   "metadata": {},
   "outputs": [
    {
     "data": {
      "text/plain": [
       "[<matplotlib.lines.Line2D at 0x20ecf895490>]"
      ]
     },
     "execution_count": 60,
     "metadata": {},
     "output_type": "execute_result"
    },
    {
     "data": {
      "image/png": "[encoded data removed]",
      "text/plain": [
       "<Figure size 432x288 with 1 Axes>"
      ]
     },
     "metadata": {
      "needs_background": "light"
     },
     "output_type": "display_data"
    }
   ],
   "source": [
    "plt.plot(df3)"
   ]
  },
  {
   "cell_type": "code",
   "execution_count": null,
   "metadata": {},
   "outputs": [],
   "source": []
  }
 ],
 "metadata": {
  "kernelspec": {
   "display_name": "Python 3",
   "language": "python",
   "name": "python3"
  },
  "language_info": {
   "codemirror_mode": {
    "name": "ipython",
    "version": 3
   },
   "file_extension": ".py",
   "mimetype": "text/x-python",
   "name": "python",
   "nbconvert_exporter": "python",
   "pygments_lexer": "ipython3",
   "version": "3.8.5"
  }
 },
 "nbformat": 4,
 "nbformat_minor": 4
}
